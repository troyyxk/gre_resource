{
 "cells": [
  {
   "cell_type": "code",
   "execution_count": 1,
   "metadata": {},
   "outputs": [],
   "source": [
    "import pandas as pd\n",
    "\n",
    "\n",
    "f1 = open(\"today_list.txt\", \"r\")\n",
    "f2 = open(\"today_def.txt\", \"r\", encoding=\"utf-8\")\n",
    "words = [x[0:-1] for x in f1.readlines()]\n",
    "definations = [x[0:-1] for x in f2.readlines()]\n",
    "\n",
    "with open('tmp.txt', 'w', encoding=\"utf-8\") as f:\n",
    "    for i in range(len(words)):\n",
    "        f.write(words[i])\n",
    "        f.write('%')\n",
    "        f.write(definations[i])\n",
    "        f.write('\\n')\n",
    "\n",
    "df = pd.read_csv('tmp.txt', sep=\"%\", header=None)\n",
    "\n"
   ]
  },
  {
   "cell_type": "code",
   "execution_count": 2,
   "metadata": {},
   "outputs": [
    {
     "data": {
      "text/html": [
       "<div>\n",
       "<style scoped>\n",
       "    .dataframe tbody tr th:only-of-type {\n",
       "        vertical-align: middle;\n",
       "    }\n",
       "\n",
       "    .dataframe tbody tr th {\n",
       "        vertical-align: top;\n",
       "    }\n",
       "\n",
       "    .dataframe thead th {\n",
       "        text-align: right;\n",
       "    }\n",
       "</style>\n",
       "<table border=\"1\" class=\"dataframe\">\n",
       "  <thead>\n",
       "    <tr style=\"text-align: right;\">\n",
       "      <th></th>\n",
       "      <th>0</th>\n",
       "      <th>1</th>\n",
       "    </tr>\n",
       "  </thead>\n",
       "  <tbody>\n",
       "    <tr>\n",
       "      <th>0</th>\n",
       "      <td>trite</td>\n",
       "      <td>adj. 陈腐的，⽼套的 (of a remark, opinion, or idea) o...</td>\n",
       "    </tr>\n",
       "    <tr>\n",
       "      <th>1</th>\n",
       "      <td>obviate</td>\n",
       "      <td>vt. 排除；避免；消除</td>\n",
       "    </tr>\n",
       "    <tr>\n",
       "      <th>2</th>\n",
       "      <td>seductive</td>\n",
       "      <td>adj. 有魅力的；性感的；引人注意的</td>\n",
       "    </tr>\n",
       "    <tr>\n",
       "      <th>3</th>\n",
       "      <td>ominous</td>\n",
       "      <td>adj. 预兆的；不吉利的</td>\n",
       "    </tr>\n",
       "    <tr>\n",
       "      <th>4</th>\n",
       "      <td>induce</td>\n",
       "      <td>vt. 诱导；引起；引诱；感应</td>\n",
       "    </tr>\n",
       "    <tr>\n",
       "      <th>...</th>\n",
       "      <td>...</td>\n",
       "      <td>...</td>\n",
       "    </tr>\n",
       "    <tr>\n",
       "      <th>65</th>\n",
       "      <td>importunate</td>\n",
       "      <td>adj. 再三要求的；纠缠不休的；胡搅蛮缠的 persistent, especially ...</td>\n",
       "    </tr>\n",
       "    <tr>\n",
       "      <th>66</th>\n",
       "      <td>spurn</td>\n",
       "      <td>v.t. 蔑视，鄙视，对……不屑⼀顾 reject with disdain or cont...</td>\n",
       "    </tr>\n",
       "    <tr>\n",
       "      <th>67</th>\n",
       "      <td>taciturn</td>\n",
       "      <td>adj. 沉默寡⾔的，不爱说话的 (of a person) reserved or unc...</td>\n",
       "    </tr>\n",
       "    <tr>\n",
       "      <th>68</th>\n",
       "      <td>austerity</td>\n",
       "      <td>n. 紧缩；朴素；苦行；严厉</td>\n",
       "    </tr>\n",
       "    <tr>\n",
       "      <th>69</th>\n",
       "      <td>quixotic</td>\n",
       "      <td>adj. 不切实际的；空想的 exceedingly idealistic; unreali...</td>\n",
       "    </tr>\n",
       "  </tbody>\n",
       "</table>\n",
       "<p>70 rows × 2 columns</p>\n",
       "</div>"
      ],
      "text/plain": [
       "              0                                                  1\n",
       "0         trite  adj. 陈腐的，⽼套的 (of a remark, opinion, or idea) o...\n",
       "1       obviate                                       vt. 排除；避免；消除\n",
       "2     seductive                                adj. 有魅力的；性感的；引人注意的\n",
       "3       ominous                                      adj. 预兆的；不吉利的\n",
       "4        induce                                    vt. 诱导；引起；引诱；感应\n",
       "..          ...                                                ...\n",
       "65  importunate  adj. 再三要求的；纠缠不休的；胡搅蛮缠的 persistent, especially ...\n",
       "66        spurn  v.t. 蔑视，鄙视，对……不屑⼀顾 reject with disdain or cont...\n",
       "67     taciturn  adj. 沉默寡⾔的，不爱说话的 (of a person) reserved or unc...\n",
       "68    austerity                                     n. 紧缩；朴素；苦行；严厉\n",
       "69     quixotic  adj. 不切实际的；空想的 exceedingly idealistic; unreali...\n",
       "\n",
       "[70 rows x 2 columns]"
      ]
     },
     "execution_count": 2,
     "metadata": {},
     "output_type": "execute_result"
    }
   ],
   "source": [
    "df"
   ]
  },
  {
   "cell_type": "code",
   "execution_count": 4,
   "metadata": {},
   "outputs": [
    {
     "name": "stdout",
     "output_type": "stream",
     "text": [
      "              0                                                  1\n",
      "0         trite  adj. 陈腐的，⽼套的 (of a remark, opinion, or idea) o...\n",
      "1       obviate                                       vt. 排除；避免；消除\n",
      "2     seductive                                adj. 有魅力的；性感的；引人注意的\n",
      "3       ominous                                      adj. 预兆的；不吉利的\n",
      "4        induce                                    vt. 诱导；引起；引诱；感应\n",
      "..          ...                                                ...\n",
      "65  importunate  adj. 再三要求的；纠缠不休的；胡搅蛮缠的 persistent, especially ...\n",
      "66        spurn  v.t. 蔑视，鄙视，对……不屑⼀顾 reject with disdain or cont...\n",
      "67     taciturn  adj. 沉默寡⾔的，不爱说话的 (of a person) reserved or unc...\n",
      "68    austerity                                     n. 紧缩；朴素；苦行；严厉\n",
      "69     quixotic  adj. 不切实际的；空想的 exceedingly idealistic; unreali...\n",
      "\n",
      "[70 rows x 2 columns]\n"
     ]
    }
   ],
   "source": [
    "print(df)\n",
    "df.to_csv('log.csv', encoding=\"utf-8\")"
   ]
  }
 ],
 "metadata": {
  "kernelspec": {
   "display_name": "Python 3",
   "language": "python",
   "name": "python3"
  },
  "language_info": {
   "codemirror_mode": {
    "name": "ipython",
    "version": 3
   },
   "file_extension": ".py",
   "mimetype": "text/x-python",
   "name": "python",
   "nbconvert_exporter": "python",
   "pygments_lexer": "ipython3",
   "version": "3.6.9"
  }
 },
 "nbformat": 4,
 "nbformat_minor": 4
}
